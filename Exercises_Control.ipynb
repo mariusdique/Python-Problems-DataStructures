{
 "cells": [
  {
   "cell_type": "markdown",
   "id": "cea885a2",
   "metadata": {},
   "source": [
    "### LOOP ITERATION BASED PROBLEMS"
   ]
  },
  {
   "cell_type": "code",
   "execution_count": 1,
   "id": "5bbc458b",
   "metadata": {},
   "outputs": [
    {
     "name": "stdout",
     "output_type": "stream",
     "text": [
      "40.0\n"
     ]
    }
   ],
   "source": [
    "# Daily Gas Fee Average\n",
    "# Description: Calculate the average gas fee from a list of daily Ethereum gas fees.\n",
    "\n",
    "fees = [30, 40, 35, 50, 45]\n",
    "count = len(fees)\n",
    "total = 0\n",
    "\n",
    "for i in fees:\n",
    " total += i\n",
    "\n",
    "avg = total / count\n",
    "print(avg)\n",
    "\n"
   ]
  },
  {
   "cell_type": "code",
   "execution_count": null,
   "id": "f1ce0cfb",
   "metadata": {},
   "outputs": [
    {
     "name": "stdout",
     "output_type": "stream",
     "text": [
      "Day 4\n"
     ]
    }
   ],
   "source": [
    "# Highest Daily Transaction Count\n",
    "# Description: Find the day with the highest number of transactions on a blockchain.\n",
    "txs = [1200, 1400, 1350, 1600, 1100]\n",
    "higher = 0\n",
    "count = 0\n",
    "\n",
    "for i in txs:\n",
    " count += 1\n",
    " if i > higher:\n",
    "  higher = i\n",
    "  day = count\n",
    "\n",
    "print(f\"Day {day}\")\n"
   ]
  },
  {
   "cell_type": "code",
   "execution_count": 8,
   "id": "5b9d9a63",
   "metadata": {},
   "outputs": [
    {
     "name": "stdout",
     "output_type": "stream",
     "text": [
      "Highest price: 2.8 || Lowest price: 2.0\n"
     ]
    }
   ],
   "source": [
    "# Find Token Min/Max Price\n",
    "# Description: Determine the lowest and highest price of a token over a week.\n",
    "\n",
    "prices = [2.1, 2.5, 2.0, 2.8, 2.6]\n",
    "\n",
    "low = 100\n",
    "high = 0\n",
    "\n",
    "for i in prices:\n",
    "    if i > high:\n",
    "        high = i\n",
    "    \n",
    "    if i < low:\n",
    "        low = i\n",
    "\n",
    "print(f\"Highest price: {high} || Lowest price: {low}\")\n",
    "\n",
    "\n",
    "\n",
    "# Output: Min: 2.0, Max: 2.8\n"
   ]
  },
  {
   "cell_type": "code",
   "execution_count": 41,
   "id": "e3bebdc6",
   "metadata": {},
   "outputs": [
    {
     "name": "stdout",
     "output_type": "stream",
     "text": [
      "[1.1666666666666667, 1.3, 1.4333333333333336]\n"
     ]
    }
   ],
   "source": [
    "# Simple Moving Average for Token Price\n",
    "# Description: Compute the simple moving average of a token’s price for a given window.\n",
    "\n",
    "prices = [1.0, 1.2, 1.3, 1.4, 1.6] \n",
    "\n",
    "total = 0\n",
    "count = 0\n",
    "ma = []\n",
    "for i in range(3):\n",
    "    for y in prices[i:i+3]:\n",
    "        total += y\n",
    "        count += 1\n",
    "    \n",
    "    ma.append(total / count)\n",
    "    count = 0\n",
    "    total = 0\n",
    "    \n",
    "print(ma)\n"
   ]
  },
  {
   "cell_type": "code",
   "execution_count": 20,
   "id": "1b545120",
   "metadata": {},
   "outputs": [
    {
     "name": "stdout",
     "output_type": "stream",
     "text": [
      "Number of profitable days: 3 days\n"
     ]
    }
   ],
   "source": [
    "# Count Profitable Days on DEX\n",
    "# Description: Count the number of days a trader had a positive return on a DEX.\n",
    "results = [0.03, -0.02, 0.01, 0.04, -0.01]\n",
    "\n",
    "count = 0\n",
    "\n",
    "for i in results:\n",
    " if i > 0:\n",
    "  count += 1\n",
    "\n",
    "\n",
    "print(f\"Number of profitable days: {count} days\")\n",
    "  \n"
   ]
  },
  {
   "cell_type": "code",
   "execution_count": null,
   "id": "b9c7ba4b",
   "metadata": {},
   "outputs": [
    {
     "name": "stdout",
     "output_type": "stream",
     "text": [
      "187.5\n"
     ]
    }
   ],
   "source": [
    "# Average Number of Tokens Held\n",
    "# Description: Calculate the average number of tokens held across wallets.\n",
    "n_tokens = [100, 200, 150, 300]\n",
    "\n",
    "total = 0\n",
    "\n",
    "for i in n_tokens:\n",
    "    total += i\n",
    "\n",
    "print(total / len(n_tokens))"
   ]
  },
  {
   "cell_type": "code",
   "execution_count": null,
   "id": "0c5270d4",
   "metadata": {},
   "outputs": [
    {
     "name": "stdout",
     "output_type": "stream",
     "text": [
      "Number of wallets above threshold: 3\n"
     ]
    }
   ],
   "source": [
    "# Wallets Above Holding Threshold\n",
    "# Description: Count the number of wallets holding more than 100 tokens.\n",
    "\n",
    "tokens = [50, 150, 120, 80, 200]\n",
    "\n",
    "count_wallets = 0\n",
    "\n",
    "for i in tokens:\n",
    "    if i >= 100:\n",
    "        count_wallets += 1\n",
    "\n",
    "print(f\"Number of wallets above threshold: {count_wallets}\")"
   ]
  },
  {
   "cell_type": "code",
   "execution_count": 24,
   "id": "f789a474",
   "metadata": {},
   "outputs": [
    {
     "name": "stdout",
     "output_type": "stream",
     "text": [
      "103000\n"
     ]
    }
   ],
   "source": [
    "# Total Gas Spent by Wallets\n",
    "# Description: Calculate total gas used by multiple wallets across transactions.\n",
    "\n",
    "gas = [21000, 50000, 32000]\n",
    "\n",
    "total = 0\n",
    "\n",
    "for i in gas:\n",
    " total += i\n",
    "\n",
    "print(total)"
   ]
  },
  {
   "cell_type": "code",
   "execution_count": null,
   "id": "5a197f9f",
   "metadata": {},
   "outputs": [
    {
     "name": "stdout",
     "output_type": "stream",
     "text": [
      "250\n"
     ]
    }
   ],
   "source": [
    "# Cumulative Token Airdrop\n",
    "# Description: Calculate the total tokens distributed in an airdrop across multiple addresses.\n",
    "amounts = [50, 75, 100, 25]\n",
    "\n",
    "total = 0\n",
    "\n",
    "for i in amounts:\n",
    "    total += i\n",
    "\n",
    "print(total)"
   ]
  },
  {
   "cell_type": "code",
   "execution_count": null,
   "id": "8772ae10",
   "metadata": {},
   "outputs": [
    {
     "name": "stdout",
     "output_type": "stream",
     "text": [
      "1.125\n"
     ]
    }
   ],
   "source": [
    "# Average Bridge Fee Across Chains\n",
    "# Description: Find the average fee users pay when bridging tokens across chains.\n",
    "\n",
    "fees = [1.2, 0.8, 1.0, 1.5]\n",
    "\n",
    "total = 0\n",
    "\n",
    "for i in fees:\n",
    " total += i\n",
    "\n",
    "print(total / len(fees))"
   ]
  },
  {
   "cell_type": "markdown",
   "id": "5229b393",
   "metadata": {},
   "source": [
    "### CONDITIONAL STATEMENTS (Decision-making problems)"
   ]
  },
  {
   "cell_type": "code",
   "execution_count": 27,
   "id": "caf27a8f",
   "metadata": {},
   "outputs": [
    {
     "name": "stdout",
     "output_type": "stream",
     "text": [
      "Bullish\n"
     ]
    }
   ],
   "source": [
    "# Token Price Classification\n",
    "# Description: Classify a token’s price movement as “Bullish” if it increased, “Bearish” if decreased.\n",
    "\n",
    "previous_price = 2.0\n",
    "current_price = 2.3\n",
    "\n",
    "if previous_price > current_price:\n",
    " print(\"Bearish\")\n",
    "elif previous_price < current_price:\n",
    " print(\"Bullish\")\n",
    "else:\n",
    " print(\"No change\")\n"
   ]
  },
  {
   "cell_type": "code",
   "execution_count": 28,
   "id": "b9624ece",
   "metadata": {},
   "outputs": [
    {
     "name": "stdout",
     "output_type": "stream",
     "text": [
      "High gas fee alert!\n"
     ]
    }
   ],
   "source": [
    "# Gas Fee Alert System\n",
    "# Description: Alert if Ethereum gas fee exceeds a given threshold (e.g., 100 Gwei).\n",
    "gas_fee = 120\n",
    "\n",
    "if gas_fee > 100:\n",
    " print(\"High gas fee alert!\")"
   ]
  },
  {
   "cell_type": "code",
   "execution_count": 29,
   "id": "d93acac8",
   "metadata": {},
   "outputs": [
    {
     "name": "stdout",
     "output_type": "stream",
     "text": [
      "Whale wallet\n"
     ]
    }
   ],
   "source": [
    "# Detect Whale Wallet\n",
    "# Description: Identify if a wallet is a whale based on token balance (>10,000 tokens).\n",
    "\n",
    "balance = 15000\n",
    "\n",
    "if balance > 10000:\n",
    " print(\"Whale wallet\")\n"
   ]
  },
  {
   "cell_type": "code",
   "execution_count": 30,
   "id": "b5116ea1",
   "metadata": {},
   "outputs": [
    {
     "name": "stdout",
     "output_type": "stream",
     "text": [
      "Suspicious\n"
     ]
    }
   ],
   "source": [
    "# Token Transfer Flag\n",
    "# Description: Flag a transaction as “Suspicious” if the amount is above 1 million tokens.\n",
    "\n",
    "transfer_amount = 1200000\n",
    "\n",
    "if transfer_amount > 1000000:\n",
    " print(\"Suspicious\")"
   ]
  },
  {
   "cell_type": "code",
   "execution_count": 32,
   "id": "47cfdb8b",
   "metadata": {},
   "outputs": [
    {
     "name": "stdout",
     "output_type": "stream",
     "text": [
      "High slippage detected\n"
     ]
    }
   ],
   "source": [
    "# DEX Slippage Warning\n",
    "# Description: Warn users if the slippage is greater than 5%.\n",
    "\n",
    "slippage_percentage = 6.5\n",
    "\n",
    "if slippage_percentage > 5:\n",
    " print(\"High slippage detected\")\n"
   ]
  },
  {
   "cell_type": "code",
   "execution_count": 33,
   "id": "10be054b",
   "metadata": {},
   "outputs": [
    {
     "name": "stdout",
     "output_type": "stream",
     "text": [
      "Sold Out\n"
     ]
    }
   ],
   "source": [
    "# NFT Mint Status Check\n",
    "# Description: Check if an NFT is sold out or available for mint.\n",
    "\n",
    "supply = 10000\n",
    "\n",
    "if supply == 10000:\n",
    " print(\"Sold Out\")\n",
    "\n",
    "else:\n",
    " print(\"Available for mint\")"
   ]
  },
  {
   "cell_type": "code",
   "execution_count": 34,
   "id": "aacada38",
   "metadata": {},
   "outputs": [
    {
     "name": "stdout",
     "output_type": "stream",
     "text": [
      "Depegged\n"
     ]
    }
   ],
   "source": [
    "# Stablecoin Health Check\n",
    "# Description: Determine if a stablecoin is depegged (if price deviates from $1 by more than ±5%).\n",
    "\n",
    "price = 0.93\n",
    "\n",
    "if price >= 1.05:\n",
    " print(\"Depegged\")\n",
    "elif price <= 0.95:\n",
    " print(\"Depegged\")\n",
    "else:\n",
    " print(\"Pegged\")\n",
    " \n"
   ]
  },
  {
   "cell_type": "code",
   "execution_count": 35,
   "id": "9a940ccb",
   "metadata": {},
   "outputs": [
    {
     "name": "stdout",
     "output_type": "stream",
     "text": [
      "Dont Qualify\n"
     ]
    }
   ],
   "source": [
    "# Reward Eligibility\n",
    "# Description: Check if a user qualifies for staking rewards (must stake ≥ 500 tokens).\n",
    "tokens_staked = 300\n",
    "\n",
    "if tokens_staked >= 500:\n",
    "    print(\"Qualifies!\")\n",
    "else:\n",
    "    print(\"Dont Qualify\")"
   ]
  },
  {
   "cell_type": "code",
   "execution_count": 36,
   "id": "2d50cab3",
   "metadata": {},
   "outputs": [
    {
     "name": "stdout",
     "output_type": "stream",
     "text": [
      "Eligible\n"
     ]
    }
   ],
   "source": [
    "# Airdrop Eligibility\n",
    "# Description: Check if a wallet is eligible for airdrop (must hold a specific token and have at least 5 transactions).\n",
    "\n",
    "holdings = 100\n",
    "n_tx = 6\n",
    "\n",
    "if holdings > 1 and n_tx > 5:\n",
    " print(\"Eligible\")\n",
    "else:\n",
    " print(\"Not eligible\")"
   ]
  },
  {
   "cell_type": "code",
   "execution_count": 43,
   "id": "cf571774",
   "metadata": {},
   "outputs": [
    {
     "name": "stdout",
     "output_type": "stream",
     "text": [
      "Innefficient\n"
     ]
    }
   ],
   "source": [
    "# Transaction Fee Efficiency\n",
    "# Description: Flag if a transaction fee is greater than 5% of transaction amount.\n",
    "fee = 3\n",
    "tx_amount = 50\n",
    "percentage = 5\n",
    "\n",
    "x = (fee / tx_amount) * 100\n",
    "\n",
    "if x > percentage:\n",
    " print(\"Innefficient\")\n",
    "else:\n",
    " print(\"Efficient\")\n"
   ]
  }
 ],
 "metadata": {
  "kernelspec": {
   "display_name": "env",
   "language": "python",
   "name": "python3"
  },
  "language_info": {
   "codemirror_mode": {
    "name": "ipython",
    "version": 3
   },
   "file_extension": ".py",
   "mimetype": "text/x-python",
   "name": "python",
   "nbconvert_exporter": "python",
   "pygments_lexer": "ipython3",
   "version": "3.10.0"
  }
 },
 "nbformat": 4,
 "nbformat_minor": 5
}
