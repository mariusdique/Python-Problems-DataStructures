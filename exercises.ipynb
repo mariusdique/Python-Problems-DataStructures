{
 "cells": [
  {
   "cell_type": "markdown",
   "id": "c8fcc648",
   "metadata": {},
   "source": [
    "## Exercises from Python Data Strucutures\n",
    "\n",
    "### Problem 1: Cryptocurrency Token Data\n",
    "\n",
    "This data structure represents information about different cryptocurrency tokens listed on a decentralized exchange (DEX).\n"
   ]
  },
  {
   "cell_type": "code",
   "execution_count": 53,
   "id": "d6b7f763",
   "metadata": {},
   "outputs": [],
   "source": [
    "crypto_tokens = [\n",
    "    {\n",
    "        \"name\": \"Token A\",\n",
    "        \"symbol\": \"TKA\",\n",
    "        \"blockchain\": \"Ethereum\",\n",
    "        \"current_price_usd\": 100.0,\n",
    "        \"transaction_history\": [\n",
    "            {\n",
    "                \"date\": \"2024-01-10\",\n",
    "                \"prices\": {\n",
    "                    \"open\": 98.0,\n",
    "                    \"close\": 100.0,\n",
    "                    \"high\": 101.0,\n",
    "                    \"low\": 97.0\n",
    "                },\n",
    "                \"volume\": 12000\n",
    "            },\n",
    "            {\n",
    "                \"date\": \"2024-01-09\",\n",
    "                \"prices\": {\n",
    "                    \"open\": 97.0,\n",
    "                    \"close\": 98.0,\n",
    "                    \"high\": 99.0,\n",
    "                    \"low\": 96.0\n",
    "                },\n",
    "                \"volume\": 15000\n",
    "            }\n",
    "        ],\n",
    "        \"supported_chains\": [\"Ethereum\", \"Polygon\"]\n",
    "    },\n",
    "    {\n",
    "        \"name\": \"Token B\",\n",
    "        \"symbol\": \"TKB\",\n",
    "        \"blockchain\": \"Binance Smart Chain\",\n",
    "        \"current_price_usd\": 200.0,\n",
    "        \"transaction_history\": [\n",
    "            {\n",
    "                \"date\": \"2024-01-10\",\n",
    "                \"prices\": {\n",
    "                    \"open\": 198.0,\n",
    "                    \"close\": 200.0,\n",
    "                    \"high\": 202.0,\n",
    "                    \"low\": 196.0\n",
    "                },\n",
    "                \"volume\": 18000\n",
    "            },\n",
    "            {\n",
    "                \"date\": \"2024-01-09\",\n",
    "                \"prices\": {\n",
    "                    \"open\": 196.0,\n",
    "                    \"close\": 198.0,\n",
    "                    \"high\": 199.0,\n",
    "                    \"low\": 195.0\n",
    "                },\n",
    "                \"volume\": 17000\n",
    "            }\n",
    "        ],\n",
    "        \"supported_chains\": [\"Binance Smart Chain\", \"Avalanche\"]\n",
    "    },\n",
    "    {\n",
    "        \"name\": \"Token C\",\n",
    "        \"symbol\": \"TKC\",\n",
    "        \"blockchain\": \"Solana\",\n",
    "        \"current_price_usd\": 300.0,\n",
    "        \"transaction_history\": [\n",
    "            {\n",
    "                \"date\": \"2024-01-10\",\n",
    "                \"prices\": {\n",
    "                    \"open\": 295.0,\n",
    "                    \"close\": 300.0,\n",
    "                    \"high\": 302.0,\n",
    "                    \"low\": 294.0\n",
    "                },\n",
    "                \"volume\": 22000\n",
    "            },\n",
    "            {\n",
    "                \"date\": \"2024-01-09\",\n",
    "                \"prices\": {\n",
    "                    \"open\": 294.0,\n",
    "                    \"close\": 295.0,\n",
    "                    \"high\": 296.0,\n",
    "                    \"low\": 293.0\n",
    "                },\n",
    "                \"volume\": 21000\n",
    "            }\n",
    "        ],\n",
    "        \"supported_chains\": [\"Solana\", \"Fantom\"]\n",
    "    }\n",
    "]\n"
   ]
  },
  {
   "cell_type": "code",
   "execution_count": 54,
   "id": "c51464c5",
   "metadata": {},
   "outputs": [
    {
     "name": "stdout",
     "output_type": "stream",
     "text": [
      "200.0\n"
     ]
    }
   ],
   "source": [
    "# Q1 Task: Display the current price of \"Token B\".\n",
    "\n",
    "print(crypto_tokens[1][\"current_price_usd\"])"
   ]
  },
  {
   "cell_type": "code",
   "execution_count": 55,
   "id": "11a5a3ef",
   "metadata": {},
   "outputs": [
    {
     "name": "stdout",
     "output_type": "stream",
     "text": [
      "[{'name': 'Token A', 'symbol': 'TKA', 'blockchain': 'Ethereum', 'current_price_usd': 100.0, 'transaction_history': [{'date': '2024-01-10', 'prices': {'open': 98.0, 'close': 100.0, 'high': 101.0, 'low': 97.0}, 'volume': 12000}, {'date': '2024-01-09', 'prices': {'open': 97.0, 'close': 98.0, 'high': 99.0, 'low': 96.0}, 'volume': 15000}], 'supported_chains': ['Ethereum', 'Polygon']}, {'name': 'Token B', 'symbol': 'TKB', 'blockchain': 'Binance Smart Chain', 'current_price_usd': 200.0, 'transaction_history': [{'date': '2024-01-10', 'prices': {'open': 198.0, 'close': 200.0, 'high': 202.0, 'low': 196.0}, 'volume': 18000}, {'date': '2024-01-09', 'prices': {'open': 196.0, 'close': 198.0, 'high': 199.0, 'low': 195.0}, 'volume': 17000}], 'supported_chains': ['Binance Smart Chain', 'Avalanche']}, {'name': 'Token C', 'symbol': 'TKC', 'blockchain': 'Solana', 'current_price_usd': 300.0, 'transaction_history': [{'date': '2024-01-10', 'prices': {'open': 295.0, 'close': 300.0, 'high': 302.0, 'low': 294.0}, 'volume': 22000}, {'date': '2024-01-09', 'prices': {'open': 294.0, 'close': 295.0, 'high': 296.0, 'low': 293.0}, 'volume': 21000}], 'supported_chains': ['Solana', 'Fantom']}, {'name': 'Token D', 'symbol': 'rETH', 'blockchain': 'Ethereum', 'current_price_usd': 2300.0}]\n"
     ]
    }
   ],
   "source": [
    "# Q2 Task: Add a new token \"Token D\" with some initial data to the `crypto_tokens` list.\n",
    "\n",
    "crypto_tokens.append(\n",
    "        {\"name\": \"Token D\",\n",
    "        \"symbol\": \"rETH\",\n",
    "        \"blockchain\": \"Ethereum\",\n",
    "        \"current_price_usd\": 2300.0,}\n",
    "        )\n",
    "print(crypto_tokens)"
   ]
  },
  {
   "cell_type": "code",
   "execution_count": 56,
   "id": "9be49e27",
   "metadata": {},
   "outputs": [
    {
     "name": "stdout",
     "output_type": "stream",
     "text": [
      "310.0\n"
     ]
    }
   ],
   "source": [
    "# Q3 Task: Update the current price of \"Token C\" to 310.0.\n",
    "\n",
    "crypto_tokens[2].update({\"current_price_usd\": 310.0})\n",
    "print(crypto_tokens[2][\"current_price_usd\"])\n"
   ]
  },
  {
   "cell_type": "code",
   "execution_count": 57,
   "id": "262a8f0c",
   "metadata": {},
   "outputs": [
    {
     "name": "stdout",
     "output_type": "stream",
     "text": [
      "[{'name': 'Token A', 'symbol': 'TKA', 'blockchain': 'Ethereum', 'current_price_usd': 100.0, 'transaction_history': [{'date': '2024-01-10', 'prices': {'open': 98.0, 'close': 100.0, 'high': 101.0, 'low': 97.0}, 'volume': 12000}], 'supported_chains': ['Ethereum', 'Polygon']}, {'name': 'Token B', 'symbol': 'TKB', 'blockchain': 'Binance Smart Chain', 'current_price_usd': 200.0, 'transaction_history': [{'date': '2024-01-10', 'prices': {'open': 198.0, 'close': 200.0, 'high': 202.0, 'low': 196.0}, 'volume': 18000}, {'date': '2024-01-09', 'prices': {'open': 196.0, 'close': 198.0, 'high': 199.0, 'low': 195.0}, 'volume': 17000}], 'supported_chains': ['Binance Smart Chain', 'Avalanche']}, {'name': 'Token C', 'symbol': 'TKC', 'blockchain': 'Solana', 'current_price_usd': 310.0, 'transaction_history': [{'date': '2024-01-10', 'prices': {'open': 295.0, 'close': 300.0, 'high': 302.0, 'low': 294.0}, 'volume': 22000}, {'date': '2024-01-09', 'prices': {'open': 294.0, 'close': 295.0, 'high': 296.0, 'low': 293.0}, 'volume': 21000}], 'supported_chains': ['Solana', 'Fantom']}, {'name': 'Token D', 'symbol': 'rETH', 'blockchain': 'Ethereum', 'current_price_usd': 2300.0}]\n"
     ]
    }
   ],
   "source": [
    "# Q4 Task: Remove the transaction history for \"Token A\" on \"2024-01-09\".\n",
    "\n",
    "crypto_tokens[0][\"transaction_history\"].pop(1)\n",
    "print(crypto_tokens)\n"
   ]
  },
  {
   "cell_type": "code",
   "execution_count": 58,
   "id": "d06b58c9",
   "metadata": {},
   "outputs": [
    {
     "name": "stdout",
     "output_type": "stream",
     "text": [
      "200.0\n"
     ]
    }
   ],
   "source": [
    "# Q5 Task: Display the closing price of \"Token B\" on \"2024-01-10\".\n",
    "\n",
    "print(crypto_tokens[1][\"transaction_history\"][0][\"prices\"][\"close\"])"
   ]
  },
  {
   "cell_type": "code",
   "execution_count": 59,
   "id": "15668e8d",
   "metadata": {},
   "outputs": [
    {
     "name": "stdout",
     "output_type": "stream",
     "text": [
      "[{'name': 'Token A', 'symbol': 'TKA', 'blockchain': 'Ethereum', 'current_price_usd': 100.0, 'transaction_history': [{'date': '2024-01-10', 'prices': {'open': 98.0, 'close': 99.0, 'high': 101.0, 'low': 97.0}, 'volume': 12000}], 'supported_chains': ['Ethereum', 'Polygon']}, {'name': 'Token B', 'symbol': 'TKB', 'blockchain': 'Binance Smart Chain', 'current_price_usd': 200.0, 'transaction_history': [{'date': '2024-01-10', 'prices': {'open': 198.0, 'close': 200.0, 'high': 202.0, 'low': 196.0}, 'volume': 18000}, {'date': '2024-01-09', 'prices': {'open': 196.0, 'close': 198.0, 'high': 199.0, 'low': 195.0}, 'volume': 17000}], 'supported_chains': ['Binance Smart Chain', 'Avalanche']}, {'name': 'Token C', 'symbol': 'TKC', 'blockchain': 'Solana', 'current_price_usd': 310.0, 'transaction_history': [{'date': '2024-01-10', 'prices': {'open': 295.0, 'close': 300.0, 'high': 302.0, 'low': 294.0}, 'volume': 22000}, {'date': '2024-01-09', 'prices': {'open': 294.0, 'close': 295.0, 'high': 296.0, 'low': 293.0}, 'volume': 21000}], 'supported_chains': ['Solana', 'Fantom']}, {'name': 'Token D', 'symbol': 'rETH', 'blockchain': 'Ethereum', 'current_price_usd': 2300.0}]\n"
     ]
    }
   ],
   "source": [
    "# Q6 Task: Change the opening price of \"Token A\" on \"2024-01-10\" to 99.0.\n",
    "\n",
    "crypto_tokens[0][\"transaction_history\"][0][\"prices\"].update({\"close\": 99.0})\n",
    "print(crypto_tokens)"
   ]
  },
  {
   "cell_type": "code",
   "execution_count": 60,
   "id": "751c767f",
   "metadata": {},
   "outputs": [
    {
     "name": "stdout",
     "output_type": "stream",
     "text": [
      "[{'name': 'Token A', 'symbol': 'TKA', 'blockchain': 'Ethereum', 'current_price_usd': 100.0, 'transaction_history': [{'date': '2024-01-10', 'prices': {'open': 98.0, 'close': 99.0, 'high': 101.0, 'low': 97.0}, 'volume': 12000}], 'supported_chains': ['Ethereum', 'Polygon']}, {'name': 'Token B', 'symbol': 'TKB', 'blockchain': 'Binance Smart Chain', 'current_price_usd': 200.0, 'transaction_history': [{'date': '2024-01-10', 'prices': {'open': 198.0, 'close': 200.0, 'high': 202.0, 'low': 196.0}, 'volume': 18000}, {'date': '2024-01-09', 'prices': {'open': 196.0, 'close': 198.0, 'high': 199.0, 'low': 195.0}, 'volume': 17000}], 'supported_chains': ['Binance Smart Chain', 'Avalanche']}, {'name': 'Token C', 'symbol': 'TKC', 'blockchain': 'Solana', 'current_price_usd': 310.0, 'transaction_history': [{'date': '2024-01-11', 'prices': {'open': 300.0, 'close': 310.0, 'high': 315.0, 'low': 296.0}, 'volume': 29000}, {'date': '2024-01-10', 'prices': {'open': 295.0, 'close': 300.0, 'high': 302.0, 'low': 294.0}, 'volume': 22000}, {'date': '2024-01-09', 'prices': {'open': 294.0, 'close': 295.0, 'high': 296.0, 'low': 293.0}, 'volume': 21000}], 'supported_chains': ['Solana', 'Fantom']}, {'name': 'Token D', 'symbol': 'rETH', 'blockchain': 'Ethereum', 'current_price_usd': 2300.0}]\n"
     ]
    }
   ],
   "source": [
    "# Q7 Task: Add a new transaction history entry for \"Token C\" on \"2024-01-11\".\n",
    "\n",
    "crypto_tokens[2][\"transaction_history\"].insert(0,{\"date\": \"2024-01-11\",\n",
    "                \"prices\": {\n",
    "                    \"open\": 300.0,\n",
    "                    \"close\": 310.0,\n",
    "                    \"high\": 315.0,\n",
    "                    \"low\": 296.0\n",
    "                },\n",
    "                \"volume\": 29000})\n",
    "print(crypto_tokens)"
   ]
  },
  {
   "cell_type": "code",
   "execution_count": 61,
   "id": "cec24475",
   "metadata": {},
   "outputs": [
    {
     "name": "stdout",
     "output_type": "stream",
     "text": [
      "[{'name': 'Token A', 'symbol': 'TKA', 'blockchain': 'Ethereum', 'current_price_usd': 100.0, 'transaction_history': [{'date': '2024-01-10', 'prices': {'open': 98.0, 'close': 99.0, 'high': 101.0, 'low': 97.0}, 'volume': 12000}], 'supported_chains': ['Ethereum', 'Polygon']}, {'name': 'Token B', 'symbol': 'TKB', 'blockchain': 'Binance Smart Chain', 'current_price_usd': 200.0, 'transaction_history': [{'date': '2024-01-10', 'prices': {'open': 198.0, 'close': 200.0, 'high': 202.0, 'low': 196.0}, 'volume': 18000}, {'date': '2024-01-09', 'prices': {'open': 196.0, 'close': 198.0, 'high': 199.0, 'low': 195.0}, 'volume': 17000}], 'supported_chains': ['Binance Smart Chain']}, {'name': 'Token C', 'symbol': 'TKC', 'blockchain': 'Solana', 'current_price_usd': 310.0, 'transaction_history': [{'date': '2024-01-11', 'prices': {'open': 300.0, 'close': 310.0, 'high': 315.0, 'low': 296.0}, 'volume': 29000}, {'date': '2024-01-10', 'prices': {'open': 295.0, 'close': 300.0, 'high': 302.0, 'low': 294.0}, 'volume': 22000}, {'date': '2024-01-09', 'prices': {'open': 294.0, 'close': 295.0, 'high': 296.0, 'low': 293.0}, 'volume': 21000}], 'supported_chains': ['Solana', 'Fantom']}, {'name': 'Token D', 'symbol': 'rETH', 'blockchain': 'Ethereum', 'current_price_usd': 2300.0}]\n"
     ]
    }
   ],
   "source": [
    "# Q8 Task: Remove \"Avalanche\" from the supported chains of \"Token B\".\n",
    "\n",
    "crypto_tokens[1][\"supported_chains\"].pop(1)\n",
    "print(crypto_tokens)\n"
   ]
  },
  {
   "cell_type": "markdown",
   "id": "264b0a78",
   "metadata": {},
   "source": [
    "# Problem 2: Crypto Investment Portfolio\n",
    "This data structure represents a crypto investment portfolio, including various assets like tokens, stablecoins, and NFTs, along with their holdings and performance metrics.\n"
   ]
  },
  {
   "cell_type": "code",
   "execution_count": 73,
   "id": "72b4cfe4",
   "metadata": {},
   "outputs": [],
   "source": [
    "crypto_portfolio = {\n",
    "    \"investor_name\": \"Jane Doe\",\n",
    "    \"portfolio_id\": \"JD1234\",\n",
    "    \"assets\": {\n",
    "        \"tokens\": [\n",
    "            {\n",
    "                \"ticker\": \"ETH\",\n",
    "                \"quantity\": 50,\n",
    "                \"purchase_price\": 2000.00,\n",
    "                \"current_price\": 2100.00\n",
    "            },\n",
    "            {\n",
    "                \"ticker\": \"BTC\",\n",
    "                \"quantity\": 30,\n",
    "                \"purchase_price\": 40000.00,\n",
    "                \"current_price\": 41000.00\n",
    "            }\n",
    "        ],\n",
    "        \"stablecoins\": [\n",
    "            {\n",
    "                \"identifier\": \"USDC\",\n",
    "                \"quantity\": 10000,\n",
    "                \"purchase_price\": 1.00,\n",
    "                \"current_price\": 1.00,\n",
    "                \"peg_currency\": \"USD\"\n",
    "            }\n",
    "        ],\n",
    "        \"nfts\": [\n",
    "            {\n",
    "                \"name\": \"CryptoArt 123\",\n",
    "                \"quantity\": 1,\n",
    "                \"purchase_price\": 5000.00,\n",
    "                \"current_price\": 5500.00\n",
    "            }\n",
    "        ]\n",
    "    },\n",
    "    \"cash_holdings_usd\": 10000.00,\n",
    "    \"investment_goals\": {\"retirement\": 2035, \"education\": 2025}\n",
    "}\n"
   ]
  },
  {
   "cell_type": "code",
   "execution_count": 64,
   "id": "cb4c15e7",
   "metadata": {},
   "outputs": [
    {
     "name": "stdout",
     "output_type": "stream",
     "text": [
      "5500.0\n"
     ]
    }
   ],
   "source": [
    "# Q1 Task: Display the current price of the NFT \"CryptoArt 123\".\n",
    "\n",
    "print(crypto_portfolio[\"assets\"][\"nfts\"][0][\"current_price\"])\n"
   ]
  },
  {
   "cell_type": "code",
   "execution_count": null,
   "id": "35cbde78",
   "metadata": {},
   "outputs": [
    {
     "name": "stdout",
     "output_type": "stream",
     "text": [
      "{'investor_name': 'Jane Doe', 'portfolio_id': 'JD1234', 'assets': {'tokens': [{'ticker': 'ETH', 'quantity': 50, 'purchase_price': 2000.0, 'current_price': 2100.0}, {'ticker': 'BTC', 'quantity': 30, 'purchase_price': 40000.0, 'current_price': 41000.0}, {'ticker': 'ADA', 'quantity': 1000, 'purchase_price': 1.5, 'current_price': 1.6}, {'ticker': 'ADA', 'quantity': 1000, 'purchase_price': 1.5, 'current_price': 1.6}], 'stablecoins': [{'identifier': 'USDC', 'quantity': 10000, 'purchase_price': 1.0, 'current_price': 1.0, 'peg_currency': 'USD'}], 'nfts': [{'name': 'CryptoArt 123', 'quantity': 1, 'purchase_price': 5000.0, 'current_price': 5500.0}]}, 'cash_holdings_usd': 10000.0, 'investment_goals': {'retirement': 2035, 'education': 2025}}\n"
     ]
    }
   ],
   "source": [
    "# Q2 Task: Add a new token with ticker \"ADA\", 1000 units, a purchase price of 1.50, and a current price of 1.60 to the tokens in the assets.\n",
    "\n",
    "crypto_portfolio[\"assets\"][\"tokens\"].append({\"ticker\": \"ADA\",\n",
    "                \"quantity\": 1000,\n",
    "                \"purchase_price\": 1.50,\n",
    "                \"current_price\": 1.60})\n"
   ]
  },
  {
   "cell_type": "code",
   "execution_count": null,
   "id": "bdd489a8",
   "metadata": {},
   "outputs": [
    {
     "name": "stdout",
     "output_type": "stream",
     "text": [
      "{'investor_name': 'Jane Doe', 'portfolio_id': 'JD1234', 'assets': {'tokens': [{'ticker': 'ETH', 'quantity': 60, 'purchase_price': 2000.0, 'current_price': 2100.0}, {'ticker': 'BTC', 'quantity': 30, 'purchase_price': 40000.0, 'current_price': 41000.0}, {'ticker': 'ADA', 'quantity': 1000, 'purchase_price': 1.5, 'current_price': 1.6}, {'ticker': 'ADA', 'quantity': 1000, 'purchase_price': 1.5, 'current_price': 1.6}], 'stablecoins': [{'identifier': 'USDC', 'quantity': 10000, 'purchase_price': 1.0, 'current_price': 1.0, 'peg_currency': 'USD'}], 'nfts': [{'name': 'CryptoArt 123', 'quantity': 1, 'purchase_price': 5000.0, 'current_price': 5500.0}]}, 'cash_holdings_usd': 10000.0, 'investment_goals': {'retirement': 2035, 'education': 2025}}\n"
     ]
    }
   ],
   "source": [
    "# Q3 Update the quantity of \"ETH\" token to 60.\n",
    "\n",
    "crypto_portfolio[\"assets\"][\"tokens\"][0][\"quantity\"] = 60\n"
   ]
  },
  {
   "cell_type": "code",
   "execution_count": null,
   "id": "5031421c",
   "metadata": {},
   "outputs": [
    {
     "name": "stdout",
     "output_type": "stream",
     "text": [
      "{'investor_name': 'Jane Doe', 'portfolio_id': 'JD1234', 'assets': {'tokens': [{'ticker': 'ETH', 'quantity': 50, 'purchase_price': 2000.0, 'current_price': 2100.0}, {'ticker': 'BTC', 'quantity': 30, 'purchase_price': 40000.0, 'current_price': 41000.0}], 'stablecoins': [], 'nfts': [{'name': 'CryptoArt 123', 'quantity': 1, 'purchase_price': 5000.0, 'current_price': 5500.0}]}, 'cash_holdings_usd': 10000.0, 'investment_goals': {'retirement': 2035, 'education': 2025}}\n"
     ]
    }
   ],
   "source": [
    "# Q4 Remove the stablecoin with identifier \"USDC\" from the stablecoins in assets.\n",
    "\n",
    "crypto_portfolio[\"assets\"][\"stablecoins\"].pop(0)\n"
   ]
  },
  {
   "cell_type": "code",
   "execution_count": 74,
   "id": "406353f7",
   "metadata": {},
   "outputs": [
    {
     "name": "stdout",
     "output_type": "stream",
     "text": [
      "USD\n"
     ]
    }
   ],
   "source": [
    "# Q5 Display the peg currency of the stablecoin in the portfolio.\n",
    "\n",
    "print(crypto_portfolio[\"assets\"][\"stablecoins\"][0][\"peg_currency\"])\n"
   ]
  },
  {
   "cell_type": "code",
   "execution_count": null,
   "id": "b6f1db83",
   "metadata": {},
   "outputs": [
    {
     "name": "stdout",
     "output_type": "stream",
     "text": [
      "{'investor_name': 'Jane Doe', 'portfolio_id': 'JD1234', 'assets': {'tokens': [{'ticker': 'ETH', 'quantity': 50, 'purchase_price': 2000.0, 'current_price': 2100.0}, {'ticker': 'BTC', 'quantity': 30, 'purchase_price': 40000.0, 'current_price': 41500.0}], 'stablecoins': [{'identifier': 'USDC', 'quantity': 10000, 'purchase_price': 1.0, 'current_price': 1.0, 'peg_currency': 'USD'}], 'nfts': [{'name': 'CryptoArt 123', 'quantity': 1, 'purchase_price': 5000.0, 'current_price': 5500.0}]}, 'cash_holdings_usd': 10000.0, 'investment_goals': {'retirement': 2035, 'education': 2025}}\n"
     ]
    }
   ],
   "source": [
    "# Q6 Change the current price of \"BTC\" token to 41500.00.\n",
    "\n",
    "crypto_portfolio[\"assets\"][\"tokens\"][1][\"current_price\"] = 41500.00"
   ]
  },
  {
   "cell_type": "code",
   "execution_count": null,
   "id": "bd174f82",
   "metadata": {},
   "outputs": [
    {
     "name": "stdout",
     "output_type": "stream",
     "text": [
      "{'investor_name': 'Jane Doe', 'portfolio_id': 'JD1234', 'assets': {'tokens': [{'ticker': 'ETH', 'quantity': 50, 'purchase_price': 2000.0, 'current_price': 2100.0}, {'ticker': 'BTC', 'quantity': 30, 'purchase_price': 40000.0, 'current_price': 41500.0}], 'stablecoins': [{'identifier': 'USDC', 'quantity': 10000, 'purchase_price': 1.0, 'current_price': 1.0, 'peg_currency': 'USD'}], 'nfts': [{'name': 'CryptoArt 123', 'quantity': 1, 'purchase_price': 5000.0, 'current_price': 5500.0}]}, 'cash_holdings_usd': 10000.0, 'investment_goals': {'retirement': 2035, 'education': 2025, 'vacation': 2028}}\n"
     ]
    }
   ],
   "source": [
    "# Q7 Add a new goal \"vacation\" set for the year 2028 in the investment goals.\n",
    "\n",
    "crypto_portfolio[\"investment_goals\"][\"vacation\"] = 2028\n"
   ]
  },
  {
   "cell_type": "code",
   "execution_count": null,
   "id": "37a23d1d",
   "metadata": {},
   "outputs": [
    {
     "name": "stdout",
     "output_type": "stream",
     "text": [
      "{'investor_name': 'Jane Doe', 'portfolio_id': 'JD1234', 'assets': {'tokens': [{'ticker': 'ETH', 'quantity': 50, 'purchase_price': 2000.0, 'current_price': 2100.0}, {'ticker': 'BTC', 'quantity': 30, 'purchase_price': 40000.0, 'current_price': 41500.0}], 'stablecoins': [{'identifier': 'USDC', 'quantity': 10000, 'purchase_price': 1.0, 'current_price': 1.0, 'peg_currency': 'USD'}], 'nfts': []}, 'cash_holdings_usd': 10000.0, 'investment_goals': {'retirement': 2035, 'education': 2025, 'vacation': 2028}}\n"
     ]
    }
   ],
   "source": [
    "# Q8 Remove the NFT \"CryptoArt 123\" from the portfolio.\n",
    "\n",
    "crypto_portfolio[\"assets\"][\"nfts\"].pop(0)\n"
   ]
  },
  {
   "cell_type": "markdown",
   "id": "c360c2a7",
   "metadata": {},
   "source": [
    "# Problem 3: Blockchain Market Analysis\n",
    "This data structure represents an analysis of blockchain ecosystems, including protocols and their token performance.\n"
   ]
  },
  {
   "cell_type": "code",
   "execution_count": 91,
   "id": "5d6fc370",
   "metadata": {},
   "outputs": [],
   "source": [
    "blockchain_analysis = {\n",
    "    \"ecosystems\": {\n",
    "        \"DeFi\": {\n",
    "            \"protocols\": [\n",
    "                {\"name\": \"Protocol A\", \"ticker\": \"PDA\", \"price_change\": 5.2},\n",
    "                {\"name\": \"Protocol B\", \"ticker\": \"PDB\", \"price_change\": -3.1}\n",
    "            ]\n",
    "        },\n",
    "        \"NFTs\": {\n",
    "            \"protocols\": [\n",
    "                {\"name\": \"NFT Market A\", \"ticker\": \"NMA\", \"price_change\": 4.0},\n",
    "                {\"name\": \"NFT Market B\", \"ticker\": \"NMB\", \"price_change\": 2.5}\n",
    "            ]\n",
    "        }\n",
    "    },\n",
    "    \"market_performance\": {\n",
    "        \"Crypto Index\": {\"change\": 1.5},\n",
    "        \"DeFi Index\": {\"change\": 2.3},\n",
    "        \"NFT Index\": {\"change\": -1.2}\n",
    "    },\n",
    "    \"notable_events\": [\n",
    "        (\"2024-01-10\", \"Network Upgrade\", \"Ethereum completes sharding upgrade\"),\n",
    "        (\"2024-01-15\", \"Token Launch\", \"Protocol A launches governance token\")\n",
    "    ]\n",
    "}\n"
   ]
  },
  {
   "cell_type": "code",
   "execution_count": 79,
   "id": "90753755",
   "metadata": {},
   "outputs": [
    {
     "name": "stdout",
     "output_type": "stream",
     "text": [
      "2.5\n"
     ]
    }
   ],
   "source": [
    "# Q1 Display the price change of \"NFT Market B\"\n",
    "\n",
    "print(blockchain_analysis[\"ecosystems\"][\"NFTs\"][\"protocols\"][1][\"price_change\"])\n"
   ]
  },
  {
   "cell_type": "code",
   "execution_count": null,
   "id": "874ba922",
   "metadata": {},
   "outputs": [
    {
     "name": "stdout",
     "output_type": "stream",
     "text": [
      "{'ecosystems': {'DeFi': {'protocols': [{'name': 'Protocol A', 'ticker': 'PDA', 'price_change': 5.2}, {'name': 'Protocol B', 'ticker': 'PDB', 'price_change': -3.1}]}, 'NFTs': {'protocols': [{'name': 'NFT Market A', 'ticker': 'NMA', 'price_change': 4.0}, {'name': 'NFT Market B', 'ticker': 'NMB', 'price_change': 2.5}]}, 'Layer 2': {'protocols': [{'name': 'Layer 2 Protocol A', 'ticker': 'L2A', 'price_change': -2.0}]}}, 'market_performance': {'Crypto Index': {'change': 1.5}, 'DeFi Index': {'change': 2.3}, 'NFT Index': {'change': -1.2}}, 'notable_events': [('2024-01-10', 'Network Upgrade', 'Ethereum completes sharding upgrade'), ('2024-01-15', 'Token Launch', 'Protocol A launches governance token')]}\n"
     ]
    }
   ],
   "source": [
    "# Q2 Add a new ecosystem \"Layer 2\" with one protocol \"Layer 2 Protocol A\" having a ticker \"L2A\" and a price change of -2.0.\n",
    "\n",
    "blockchain_analysis[\"ecosystems\"][\"Layer 2\"] = {\n",
    "    \"protocols\": [\n",
    "        {\"name\": \"Layer 2 Protocol A\", \"ticker\": \"L2A\", \"price_change\": -2.0}\n",
    "    ]}\n"
   ]
  },
  {
   "cell_type": "code",
   "execution_count": 81,
   "id": "9fdb5d85",
   "metadata": {},
   "outputs": [
    {
     "name": "stdout",
     "output_type": "stream",
     "text": [
      "{'ecosystems': {'DeFi': {'protocols': [{'name': 'Protocol A', 'ticker': 'PDA', 'price_change': 6.0}, {'name': 'Protocol B', 'ticker': 'PDB', 'price_change': -3.1}]}, 'NFTs': {'protocols': [{'name': 'NFT Market A', 'ticker': 'NMA', 'price_change': 4.0}, {'name': 'NFT Market B', 'ticker': 'NMB', 'price_change': 2.5}]}, 'Layer 2': {'protocols': [{'name': 'Layer 2 Protocol A', 'ticker': 'L2A', 'price_change': -2.0}]}}, 'market_performance': {'Crypto Index': {'change': 1.5}, 'DeFi Index': {'change': 2.3}, 'NFT Index': {'change': -1.2}}, 'notable_events': [('2024-01-10', 'Network Upgrade', 'Ethereum completes sharding upgrade'), ('2024-01-15', 'Token Launch', 'Protocol A launches governance token')]}\n"
     ]
    }
   ],
   "source": [
    "# Q3 Update the price change of \"Protocol A\" to 6.0.\n",
    "\n",
    "blockchain_analysis[\"ecosystems\"][\"DeFi\"][\"protocols\"][0].update({\"price_change\": 6.0})\n",
    "\n",
    "print(blockchain_analysis)"
   ]
  },
  {
   "cell_type": "code",
   "execution_count": null,
   "id": "0d2fb09b",
   "metadata": {},
   "outputs": [
    {
     "name": "stdout",
     "output_type": "stream",
     "text": [
      "{'ecosystems': {'DeFi': {'protocols': [{'name': 'Protocol A', 'ticker': 'PDA', 'price_change': 5.2}, {'name': 'Protocol B', 'ticker': 'PDB', 'price_change': -3.1}]}, 'NFTs': {'protocols': [{'name': 'NFT Market A', 'ticker': 'NMA', 'price_change': 4.0}, {'name': 'NFT Market B', 'ticker': 'NMB', 'price_change': 2.5}]}}, 'market_performance': {'Crypto Index': {'change': 1.5}, 'DeFi Index': {'change': 2.3}}, 'notable_events': [('2024-01-10', 'Network Upgrade', 'Ethereum completes sharding upgrade'), ('2024-01-15', 'Token Launch', 'Protocol A launches governance token')]}\n"
     ]
    }
   ],
   "source": [
    "# Q4 Remove the \"NFT Index\" from market_performance.\n",
    "\n",
    "blockchain_analysis[\"market_performance\"].pop(\"NFT Index\")\n"
   ]
  },
  {
   "cell_type": "code",
   "execution_count": 85,
   "id": "4445009c",
   "metadata": {},
   "outputs": [
    {
     "name": "stdout",
     "output_type": "stream",
     "text": [
      "2.3\n"
     ]
    }
   ],
   "source": [
    "# Q5 Display the change in \"DeFi Index\" performance.\n",
    "\n",
    "print(blockchain_analysis[\"market_performance\"][\"DeFi Index\"][\"change\"])"
   ]
  },
  {
   "cell_type": "code",
   "execution_count": null,
   "id": "eaedf062",
   "metadata": {},
   "outputs": [
    {
     "name": "stdout",
     "output_type": "stream",
     "text": [
      "{'ecosystems': {'DeFi': {'protocols': [{'name': 'Protocol A', 'ticker': 'PDA', 'price_change': 5.2}, {'name': 'Protocol B', 'ticker': 'PDB', 'price_change': -3.1}]}, 'NFTs': {'protocols': [{'name': 'NFT Market Alpha', 'ticker': 'NMA', 'price_change': 4.0}, {'name': 'NFT Market B', 'ticker': 'NMB', 'price_change': 2.5}]}}, 'market_performance': {'Crypto Index': {'change': 1.5}, 'DeFi Index': {'change': 2.3}}, 'notable_events': [('2024-01-10', 'Network Upgrade', 'Ethereum completes sharding upgrade'), ('2024-01-15', 'Token Launch', 'Protocol A launches governance token')]}\n"
     ]
    }
   ],
   "source": [
    "# Q6 Change the name of \"NFT Market A\" to \"NFT Market Alpha\".\n",
    "\n",
    "blockchain_analysis[\"ecosystems\"][\"NFTs\"][\"protocols\"][0].update({\"name\": \"NFT Market Alpha\"})"
   ]
  },
  {
   "cell_type": "code",
   "execution_count": 89,
   "id": "91e31fbc",
   "metadata": {},
   "outputs": [
    {
     "name": "stdout",
     "output_type": "stream",
     "text": [
      "{'ecosystems': {'DeFi': {'protocols': [{'name': 'Protocol A', 'ticker': 'PDA', 'price_change': 5.2}, {'name': 'Protocol B', 'ticker': 'PDB', 'price_change': -3.1}]}, 'NFTs': {'protocols': [{'name': 'NFT Market Alpha', 'ticker': 'NMA', 'price_change': 4.0}, {'name': 'NFT Market B', 'ticker': 'NMB', 'price_change': 2.5}]}}, 'market_performance': {'Crypto Index': {'change': 1.5}, 'DeFi Index': {'change': 2.3}}, 'notable_events': [('2024-01-10', 'Network Upgrade', 'Ethereum completes sharding upgrade'), ('2024-01-15', 'Token Launch', 'Protocol A launches governance token'), ('2024-01-20', 'Partnership', 'Protocol B partners with major blockchain')]}\n"
     ]
    }
   ],
   "source": [
    "# Q7 Add a new notable event on \"2024-01-20\" stating \"Partnership\", with the description \"Protocol B partners with major blockchain\".\n",
    "\n",
    "blockchain_analysis[\"notable_events\"].append((\"2024-01-20\", \"Partnership\", \"Protocol B partners with major blockchain\"))\n",
    "print(blockchain_analysis)"
   ]
  },
  {
   "cell_type": "code",
   "execution_count": 92,
   "id": "3f96b25a",
   "metadata": {},
   "outputs": [
    {
     "name": "stdout",
     "output_type": "stream",
     "text": [
      "{'ecosystems': {'DeFi': {'protocols': [{'name': 'Protocol A', 'ticker': 'PDA', 'price_change': 5.2}, {'name': 'Protocol B', 'ticker': 'PDB', 'price_change': -3.1}]}, 'NFTs': {'protocols': [{'name': 'NFT Market A', 'ticker': 'NMA', 'price_change': 4.0}, {'name': 'NFT Market B', 'ticker': 'NMB', 'price_change': 2.5}]}}, 'market_performance': {'Crypto Index': {'change': 1.5}, 'DeFi Index': {'change': 2.3}, 'NFT Index': {'change': -1.2}}, 'notable_events': [('2024-01-15', 'Token Launch', 'Protocol A launches governance token')]}\n"
     ]
    }
   ],
   "source": [
    "# Q8 Remove the first notable event from the list.\n",
    "\n",
    "blockchain_analysis[\"notable_events\"].pop(0)\n",
    "print(blockchain_analysis)"
   ]
  },
  {
   "cell_type": "markdown",
   "id": "a869b8f3",
   "metadata": {},
   "source": [
    "# Problem 4: Cryptocurrency Exchange Rates\n",
    "This data structure tracks cryptocurrency exchange rates relative to a base stablecoin.\n"
   ]
  },
  {
   "cell_type": "code",
   "execution_count": 102,
   "id": "4ccd61af",
   "metadata": {},
   "outputs": [],
   "source": [
    "crypto_exchange = {\n",
    "    \"base_currency\": \"USDT\",\n",
    "    \"exchange_rates\": {\n",
    "        \"ETH\": {\n",
    "            \"current_rate\": 0.0005,\n",
    "            \"historical_rates\": [\n",
    "                {\"date\": \"2024-01-10\", \"rate\": 0.00048},\n",
    "                {\"date\": \"2024-01-09\", \"rate\": 0.00049}\n",
    "            ]\n",
    "        },\n",
    "        \"BTC\": {\n",
    "            \"current_rate\": 0.000025,\n",
    "            \"historical_rates\": [\n",
    "                {\"date\": \"2024-01-10\", \"rate\": 0.000024},\n",
    "                {\"date\": \"2024-01-09\", \"rate\": 0.000026}\n",
    "            ]\n",
    "        }\n",
    "    }\n",
    "}\n"
   ]
  },
  {
   "cell_type": "code",
   "execution_count": 94,
   "id": "1abe74d3",
   "metadata": {},
   "outputs": [
    {
     "name": "stdout",
     "output_type": "stream",
     "text": [
      "0.0005\n"
     ]
    }
   ],
   "source": [
    "# Q1: Task: Display the current exchange rate for ETH.\n",
    "\n",
    "print(crypto_exchange[\"exchange_rates\"][\"ETH\"][\"current_rate\"])\n"
   ]
  },
  {
   "cell_type": "code",
   "execution_count": 95,
   "id": "60322e61",
   "metadata": {},
   "outputs": [],
   "source": [
    "# Q2: Task: Add a new currency \"ADA\" with a current rate of 0.0015 and two historical rates: 0.0016 on \"2024-01-10\" and 0.0017 on \"2024-01-09\".\n",
    "\n",
    "crypto_exchange[\"exchange_rates\"].update({\"ADA\": {\n",
    "            \"current_rate\": 0.0015,\n",
    "            \"historical_rates\": [\n",
    "                {\"date\": \"2024-01-10\", \"rate\": 0.00016},\n",
    "                {\"date\": \"2024-01-09\", \"rate\": 0.00017}\n",
    "            ]\n",
    "        }})"
   ]
  },
  {
   "cell_type": "code",
   "execution_count": null,
   "id": "2a088352",
   "metadata": {},
   "outputs": [
    {
     "name": "stdout",
     "output_type": "stream",
     "text": [
      "{'base_currency': 'USDT', 'exchange_rates': {'ETH': {'current_rate': 0.0005, 'historical_rates': [{'date': '2024-01-10', 'rate': 0.00048}, {'date': '2024-01-09', 'rate': 0.00049}]}, 'BTC': {'current_rate': 2.7e-05, 'historical_rates': [{'date': '2024-01-10', 'rate': 2.4e-05}, {'date': '2024-01-09', 'rate': 2.6e-05}]}, 'ADA': {'current_rate': 0.0015, 'historical_rates': [{'date': '2024-01-10', 'rate': 0.00016}, {'date': '2024-01-09', 'rate': 0.00017}]}}}\n"
     ]
    }
   ],
   "source": [
    "# Q3: Task: Update the current exchange rate of BTC to 0.000027.\n",
    "\n",
    "crypto_exchange[\"exchange_rates\"][\"BTC\"].update({\"current_rate\": 0.000027})\n"
   ]
  },
  {
   "cell_type": "code",
   "execution_count": 97,
   "id": "2dd060f8",
   "metadata": {},
   "outputs": [
    {
     "data": {
      "text/plain": [
       "[{'date': '2024-01-10', 'rate': 0.00048},\n",
       " {'date': '2024-01-09', 'rate': 0.00049}]"
      ]
     },
     "execution_count": 97,
     "metadata": {},
     "output_type": "execute_result"
    }
   ],
   "source": [
    "# Q4: Task: Remove the historical rates for ETH.\n",
    "\n",
    "crypto_exchange[\"exchange_rates\"][\"ETH\"].pop(\"historical_rates\")\n"
   ]
  },
  {
   "cell_type": "code",
   "execution_count": 98,
   "id": "f235f54d",
   "metadata": {},
   "outputs": [
    {
     "name": "stdout",
     "output_type": "stream",
     "text": [
      "{'date': '2024-01-10', 'rate': 2.4e-05}\n"
     ]
    }
   ],
   "source": [
    "# Q5: Task: Display the exchange rate of BTC on \"2024-01-10\".\n",
    "\n",
    "print(crypto_exchange[\"exchange_rates\"][\"BTC\"][\"historical_rates\"][0])\n"
   ]
  },
  {
   "cell_type": "code",
   "execution_count": null,
   "id": "beb5c764",
   "metadata": {},
   "outputs": [
    {
     "name": "stdout",
     "output_type": "stream",
     "text": [
      "{'base_currency': 'USDT', 'exchange_rates': {'ETH': {'current_rate': 0.0005, 'historical_rates': [{'date': '2024-01-10', 'rate': 0.00047}, {'date': '2024-01-09', 'rate': 0.00049}]}, 'BTC': {'current_rate': 2.5e-05, 'historical_rates': [{'date': '2024-01-10', 'rate': 2.4e-05}, {'date': '2024-01-09', 'rate': 2.6e-05}]}}}\n"
     ]
    }
   ],
   "source": [
    "# Q6: Task: Change the rate of ETH on \"2024-01-10\" to 0.00047.\n",
    "\n",
    "crypto_exchange[\"exchange_rates\"][\"ETH\"][\"historical_rates\"][0].update({\"rate\": 0.00047})"
   ]
  },
  {
   "cell_type": "code",
   "execution_count": null,
   "id": "0cd62f1b",
   "metadata": {},
   "outputs": [
    {
     "name": "stdout",
     "output_type": "stream",
     "text": [
      "{'base_currency': 'USDT', 'exchange_rates': {'ETH': {'current_rate': 0.0005, 'historical_rates': [{'date': '2024-01-10', 'rate': 0.00047}, {'date': '2024-01-09', 'rate': 0.00049}]}, 'BTC': {'current_rate': 2.5e-05, 'historical_rates': [{'date': '2024-01-11', 'rate': 2.3e-05}, {'date': '2024-01-10', 'rate': 2.4e-05}, {'date': '2024-01-09', 'rate': 2.6e-05}]}}}\n"
     ]
    }
   ],
   "source": [
    "# Q7: Task: Add a new historical rate for BTC on \"2024-01-11\" with a rate of 0.000023.\n",
    "\n",
    "crypto_exchange[\"exchange_rates\"][\"BTC\"][\"historical_rates\"].insert(0, {\"date\": \"2024-01-11\", \"rate\": 0.000023})\n"
   ]
  },
  {
   "cell_type": "code",
   "execution_count": 103,
   "id": "df7f4911",
   "metadata": {},
   "outputs": [
    {
     "data": {
      "text/plain": [
       "{'date': '2024-01-09', 'rate': 2.6e-05}"
      ]
     },
     "execution_count": 103,
     "metadata": {},
     "output_type": "execute_result"
    }
   ],
   "source": [
    "# Q8: Task: Remove the historical rate of BTC on \"2024-01-09\".\n",
    "\n",
    "crypto_exchange[\"exchange_rates\"][\"BTC\"][\"historical_rates\"].pop(1)\n"
   ]
  },
  {
   "cell_type": "markdown",
   "id": "1958c390",
   "metadata": {},
   "source": [
    "# Problem 5: Crypto Credit Risk Assessment\n",
    "This data structure assesses the credit risk of individuals based on their crypto-related financial profiles.\n"
   ]
  },
  {
   "cell_type": "code",
   "execution_count": 114,
   "id": "2ad85298",
   "metadata": {},
   "outputs": [],
   "source": [
    "crypto_risk_profiles = {\n",
    "    \"individuals\": [\n",
    "        {\n",
    "            \"name\": \"John Doe\",\n",
    "            \"defi_score\": 750,\n",
    "            \"staked_assets\": {\n",
    "                \"eth_staking\": {\"amount\": 10, \"apy\": 3.5},\n",
    "                \"dot_staking\": {\"amount\": 1000, \"apy\": 2.8}\n",
    "            },\n",
    "            \"transaction_history\": [(\"2024-01-10\", \"Confirmed\"), (\"2024-01-01\", \"Delayed\")]\n",
    "        },\n",
    "        {\n",
    "            \"name\": \"Jane Smith\",\n",
    "            \"defi_score\": 680,\n",
    "            \"staked_assets\": {\n",
    "                \"usdc_lending\": {\"amount\": 5000, \"apy\": 5.0}\n",
    "            },\n",
    "            \"transaction_history\": [(\"2024-01-10\", \"Confirmed\")]\n",
    "        }\n",
    "    ]\n",
    "}\n"
   ]
  },
  {
   "cell_type": "code",
   "execution_count": 105,
   "id": "c4fd992d",
   "metadata": {},
   "outputs": [
    {
     "name": "stdout",
     "output_type": "stream",
     "text": [
      "2.8\n"
     ]
    }
   ],
   "source": [
    "# Q1: Task: Display the APY for John Doe's DOT staking.\n",
    "\n",
    "print(crypto_risk_profiles[\"individuals\"][0][\"staked_assets\"][\"dot_staking\"][\"apy\"])\n"
   ]
  },
  {
   "cell_type": "code",
   "execution_count": null,
   "id": "9d8b1c81",
   "metadata": {},
   "outputs": [
    {
     "name": "stdout",
     "output_type": "stream",
     "text": [
      "{'individuals': [{'name': 'John Doe', 'defi_score': 750, 'staked_assets': {'eth_staking': {'amount': 10, 'apy': 3.5}, 'dot_staking': {'amount': 1000, 'apy': 2.8}}, 'transaction_history': [('2024-01-10', 'Confirmed'), ('2024-01-01', 'Delayed')]}, {'name': 'Jane Smith', 'defi_score': 680, 'staked_assets': {'usdc_lending': {'amount': 5000, 'apy': 5.0}}, 'transaction_history': [('2024-01-10', 'Confirmed')]}, {'name': 'Alice Johnson', 'defi_score': 720, 'staked_assets': {}, 'transaction_history': []}]}\n"
     ]
    }
   ],
   "source": [
    "# Q2: Task: Add a new individual \"Alice Johnson\" with a DeFi score of 720, no staked assets, and no transaction history.\n",
    "\n",
    "crypto_risk_profiles[\"individuals\"].append(\n",
    "            {\"name\": \"Alice Johnson\",\n",
    "            \"defi_score\": 720,\n",
    "            \"staked_assets\": {},\n",
    "            \"transaction_history\": []\n",
    "              })"
   ]
  },
  {
   "cell_type": "code",
   "execution_count": null,
   "id": "9b450498",
   "metadata": {},
   "outputs": [
    {
     "name": "stdout",
     "output_type": "stream",
     "text": [
      "{'individuals': [{'name': 'John Doe', 'defi_score': 750, 'staked_assets': {'eth_staking': {'amount': 10, 'apy': 3.5}, 'dot_staking': {'amount': 1000, 'apy': 2.8}}, 'transaction_history': [('2024-01-10', 'Confirmed'), ('2024-01-01', 'Delayed')]}, {'name': 'Jane Smith', 'defi_score': 700, 'staked_assets': {'usdc_lending': {'amount': 5000, 'apy': 5.0}}, 'transaction_history': [('2024-01-10', 'Confirmed')]}, {'name': 'Alice Johnson', 'defi_score': 720, 'staked_assets': {}, 'transaction_history': []}]}\n"
     ]
    }
   ],
   "source": [
    "# Q3: Task: Update Jane Smith's DeFi score to 700.\n",
    "\n",
    "crypto_risk_profiles[\"individuals\"][1][\"defi_score\"] = 700\n"
   ]
  },
  {
   "cell_type": "code",
   "execution_count": 110,
   "id": "e79b2b0d",
   "metadata": {},
   "outputs": [
    {
     "data": {
      "text/plain": [
       "{'amount': 10, 'apy': 3.5}"
      ]
     },
     "execution_count": 110,
     "metadata": {},
     "output_type": "execute_result"
    }
   ],
   "source": [
    "# Q4: Task: Remove the ETH staking entry from John Doe's staked assets.\n",
    "\n",
    "crypto_risk_profiles[\"individuals\"][0][\"staked_assets\"].pop(\"eth_staking\")\n"
   ]
  },
  {
   "cell_type": "code",
   "execution_count": 111,
   "id": "78a5e1e8",
   "metadata": {},
   "outputs": [
    {
     "name": "stdout",
     "output_type": "stream",
     "text": [
      "('2024-01-10', 'Confirmed')\n"
     ]
    }
   ],
   "source": [
    "# Q5: Task: Display the latest transaction status of John Doe.\n",
    "\n",
    "print(crypto_risk_profiles[\"individuals\"][0][\"transaction_history\"][0])\n"
   ]
  },
  {
   "cell_type": "code",
   "execution_count": 112,
   "id": "5f396744",
   "metadata": {},
   "outputs": [],
   "source": [
    "# Q6: Task: Change the amount of Jane Smith's USDC lending to 5500.\n",
    "\n",
    "crypto_risk_profiles[\"individuals\"][1][\"staked_assets\"][\"usdc_lending\"].update({\"amount\": 5500})"
   ]
  },
  {
   "cell_type": "code",
   "execution_count": 113,
   "id": "9ea0cbce",
   "metadata": {},
   "outputs": [],
   "source": [
    "# Q7: Task: Add a new transaction history entry for John Doe on \"2024-01-15\" marked as \"Confirmed\".\n",
    "\n",
    "crypto_risk_profiles[\"individuals\"][0][\"transaction_history\"].insert(0, (\"2024-01-15\", \"Confirmed\"))\n"
   ]
  },
  {
   "cell_type": "code",
   "execution_count": 115,
   "id": "c9a063b8",
   "metadata": {},
   "outputs": [
    {
     "data": {
      "text/plain": [
       "('2024-01-10', 'Confirmed')"
      ]
     },
     "execution_count": 115,
     "metadata": {},
     "output_type": "execute_result"
    }
   ],
   "source": [
    "# Q8: Task: Remove the first transaction history entry of Jane Smith.\n",
    "\n",
    "crypto_risk_profiles[\"individuals\"][1][\"transaction_history\"].pop(0)"
   ]
  },
  {
   "cell_type": "markdown",
   "id": "0fe11271",
   "metadata": {},
   "source": [
    "# Problem 6: Crypto Hedge Fund Portfolio\n",
    "This data structure represents a crypto hedge fund’s investment portfolio, detailing various types of crypto investments and their performance.\n"
   ]
  },
  {
   "cell_type": "code",
   "execution_count": 116,
   "id": "34963f1e",
   "metadata": {},
   "outputs": [],
   "source": [
    "crypto_hedge_fund = {\n",
    "    \"fund_name\": \"Alpha Crypto Investments\",\n",
    "    \"portfolio_value_usd\": 50000000,\n",
    "    \"investments\": [\n",
    "        {\n",
    "            \"type\": \"Tokens\",\n",
    "            \"holdings\": [\n",
    "                {\"ticker\": \"ETH\", \"quantity\": 10000, \"average_buy_price\": 2000},\n",
    "                {\"ticker\": \"SOL\", \"quantity\": 50000, \"average_buy_price\": 100}\n",
    "            ]\n",
    "        },\n",
    "        {\n",
    "            \"type\": \"Stablecoins\",\n",
    "            \"holdings\": [\n",
    "                {\"coin\": \"USDT\", \"amount\": 10000000, \"apy\": 1.5}\n",
    "            ]\n",
    "        },\n",
    "        {\n",
    "            \"type\": \"Derivatives\",\n",
    "            \"holdings\": [\n",
    "                {\"instrument\": \"Futures\", \"details\": {\"underlying\": \"BTC\", \"type\": \"Perpetual\", \"leverage\": 10}}\n",
    "            ]\n",
    "        }\n",
    "    ],\n",
    "    \"performance_metrics\": {\n",
    "        \"year_to_date_return\": 5.2,\n",
    "        \"five_year_annualized_return\": 7.1\n",
    "    }\n",
    "}\n"
   ]
  },
  {
   "cell_type": "code",
   "execution_count": 117,
   "id": "b30d811f",
   "metadata": {},
   "outputs": [
    {
     "name": "stdout",
     "output_type": "stream",
     "text": [
      "50000\n"
     ]
    }
   ],
   "source": [
    "# Q1: Task: Display the quantity of \"SOL\" tokens held in the portfolio.\n",
    "\n",
    "print(crypto_hedge_fund[\"investments\"][0][\"holdings\"][1][\"quantity\"])\n"
   ]
  },
  {
   "cell_type": "code",
   "execution_count": 118,
   "id": "4c6ce42a",
   "metadata": {},
   "outputs": [
    {
     "name": "stdout",
     "output_type": "stream",
     "text": [
      "{'fund_name': 'Alpha Crypto Investments', 'portfolio_value_usd': 50000000, 'investments': [{'type': 'Tokens', 'holdings': [{'ticker': 'ETH', 'quantity': 10000, 'average_buy_price': 2000}, {'ticker': 'SOL', 'quantity': 50000, 'average_buy_price': 100}]}, {'type': 'Stablecoins', 'holdings': [{'coin': 'USDT', 'amount': 10000000, 'apy': 1.5}]}, {'type': 'Derivatives', 'holdings': [{'instrument': 'Futures', 'details': {'underlying': 'BTC', 'type': 'Perpetual', 'leverage': 10}}]}, {'type': 'NFTs', 'holdings': [{'asset': 'CryptoPunk 456', 'value': 2000000}]}], 'performance_metrics': {'year_to_date_return': 5.2, 'five_year_annualized_return': 7.1}}\n"
     ]
    }
   ],
   "source": [
    "# Q2: Task: Add a new investment type \"NFTs\" with one holding of an NFT \"CryptoPunk 456\" valued at 2000000.\n",
    "\n",
    "crypto_hedge_fund[\"investments\"].append({\"type\": \"NFTs\",\n",
    "            \"holdings\": [\n",
    "                {\"asset\": \"CryptoPunk 456\", \"value\": 2000000}\n",
    "            ]})\n",
    "\n",
    "print(crypto_hedge_fund)"
   ]
  },
  {
   "cell_type": "code",
   "execution_count": 119,
   "id": "f4688a63",
   "metadata": {},
   "outputs": [],
   "source": [
    "# Q3: Task: Update the portfolio value to 51000000.\n",
    "\n",
    "crypto_hedge_fund[\"portfolio_value_usd\"] = 51000000\n"
   ]
  },
  {
   "cell_type": "code",
   "execution_count": 120,
   "id": "448b5fc2",
   "metadata": {},
   "outputs": [
    {
     "data": {
      "text/plain": [
       "{'type': 'Derivatives',\n",
       " 'holdings': [{'instrument': 'Futures',\n",
       "   'details': {'underlying': 'BTC', 'type': 'Perpetual', 'leverage': 10}}]}"
      ]
     },
     "execution_count": 120,
     "metadata": {},
     "output_type": "execute_result"
    }
   ],
   "source": [
    "# Q4: Task: Remove the \"Derivatives\" investment from the portfolio.\n",
    "\n",
    "crypto_hedge_fund[\"investments\"].pop(2)\n"
   ]
  },
  {
   "cell_type": "code",
   "execution_count": 122,
   "id": "71656da0",
   "metadata": {},
   "outputs": [
    {
     "name": "stdout",
     "output_type": "stream",
     "text": [
      "1.5\n"
     ]
    }
   ],
   "source": [
    "# Q5: Task: Display the APY of the \"USDT\" stablecoin.\n",
    "\n",
    "print(crypto_hedge_fund[\"investments\"][1][\"holdings\"][0][\"apy\"])\n"
   ]
  },
  {
   "cell_type": "code",
   "execution_count": 123,
   "id": "c80f3fd3",
   "metadata": {},
   "outputs": [],
   "source": [
    "# Q6: Task: Change the average buy price of \"ETH\" tokens to 2100.\n",
    "\n",
    "crypto_hedge_fund[\"investments\"][0][\"holdings\"][0][\"average_buy_price\"] = 2100\n"
   ]
  },
  {
   "cell_type": "code",
   "execution_count": 124,
   "id": "759e0771",
   "metadata": {},
   "outputs": [],
   "source": [
    "# Q7: Task: Add a new token holding for \"ADA\" with a quantity of 100000 and an average buy price of 1.5.\n",
    "\n",
    "crypto_hedge_fund[\"investments\"][0][\"holdings\"].append({\"ticker\": \"ADA\", \"quantity\": 100000, \"average_buy_price\": 1.5})\n"
   ]
  },
  {
   "cell_type": "code",
   "execution_count": 125,
   "id": "a379f53a",
   "metadata": {},
   "outputs": [
    {
     "data": {
      "text/plain": [
       "{'ticker': 'ETH', 'quantity': 10000, 'average_buy_price': 2100}"
      ]
     },
     "execution_count": 125,
     "metadata": {},
     "output_type": "execute_result"
    }
   ],
   "source": [
    "# Q8: Task: Remove the first holding (ETH) under the \"Tokens\" type.\n",
    "\n",
    "crypto_hedge_fund[\"investments\"][0][\"holdings\"].pop(0)\n"
   ]
  }
 ],
 "metadata": {
  "kernelspec": {
   "display_name": "env",
   "language": "python",
   "name": "python3"
  },
  "language_info": {
   "codemirror_mode": {
    "name": "ipython",
    "version": 3
   },
   "file_extension": ".py",
   "mimetype": "text/x-python",
   "name": "python",
   "nbconvert_exporter": "python",
   "pygments_lexer": "ipython3",
   "version": "3.10.0"
  }
 },
 "nbformat": 4,
 "nbformat_minor": 5
}
